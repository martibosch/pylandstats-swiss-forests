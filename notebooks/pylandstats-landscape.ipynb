{
 "cells": [
  {
   "cell_type": "markdown",
   "metadata": {},
   "source": [
    "# The PyLandstats landscape class\n",
    "\n",
    "The [`Landscape` class](https://pylandstats.readthedocs.io/en/latest/landscape.html) of PyLandStats defines the core object upon which all the other features of the library rely on in order to compute landscape metrics over a raster landscape.\n",
    "\n",
    "Let us start by importing the library and defining a variable with a path to a land use/land cover (LULC) raster:"
   ]
  },
  {
   "cell_type": "code",
   "execution_count": null,
   "metadata": {},
   "outputs": [],
   "source": [
    "import matplotlib.pyplot as plt\n",
    "import pylandstats as pls\n",
    "\n",
    "lulc_filepath = '../data/raw/AS18_17.tif'"
   ]
  },
  {
   "cell_type": "markdown",
   "metadata": {},
   "source": [
    "We can now initialize a `Landscape` instance as in:"
   ]
  },
  {
   "cell_type": "code",
   "execution_count": null,
   "metadata": {},
   "outputs": [],
   "source": [
    "ls = pls.Landscape(lulc_filepath)"
   ]
  },
  {
   "cell_type": "markdown",
   "metadata": {},
   "source": [
    "To plot the landscape, we might use the `plot_landscape` method as in:"
   ]
  },
  {
   "cell_type": "code",
   "execution_count": null,
   "metadata": {},
   "outputs": [],
   "source": [
    "ls.plot_landscape()"
   ]
  },
  {
   "cell_type": "markdown",
   "metadata": {},
   "source": [
    "To better understand the plot, let us add a legend to it:"
   ]
  },
  {
   "cell_type": "code",
   "execution_count": null,
   "metadata": {},
   "outputs": [],
   "source": []
  },
  {
   "cell_type": "markdown",
   "metadata": {},
   "source": [
    "We probably should improve the presentation this plot, but for the purposes of this workshop, we only need to understand it. This is a LULC map where each color represents a distinct LULC class. The list of LULC classes of the map can be accessed from the `classes` attribute of the `Landscape` class:"
   ]
  },
  {
   "cell_type": "code",
   "execution_count": null,
   "metadata": {},
   "outputs": [],
   "source": []
  },
  {
   "cell_type": "markdown",
   "metadata": {},
   "source": [
    "Such codes correspond to the [standard nomenclature (the free tier is aggregated to 17 classes) of the Swiss land statistics datasets](https://www.bfs.admin.ch/bfs/fr/home/services/geostat/geodonnees-statistique-federale/sol-utilisation-couverture/statistique-suisse-superficie/nomenclature-standard.html) provided by the Swiss Federal Statistical Office. For the purpose of this workshop, we are interested in the following codes:\n",
    "\n",
    "* `10` Forest (non bushy) *Wald (ohne Gebüschwald) in German*\n",
    "* `11` Bushy forest *Gebüschwald in German*\n",
    "* `12` Other forest *Gehölze in German*\n",
    "\n",
    "We can now use our `Landscape` instance to compute landscape metrics. The list of metrics implemented in PyLandStats is available [in its documentation](https://pylandstats.readthedocs.io/en/latest/landscape.html#list-of-implemented-metrics).\n",
    "\n",
    "Let us start by computing the proportion of landscape occupied by the non-bushy forest class (`10`), and let us time it:"
   ]
  },
  {
   "cell_type": "code",
   "execution_count": null,
   "metadata": {},
   "outputs": [],
   "source": []
  },
  {
   "cell_type": "markdown",
   "metadata": {},
   "source": [
    "Let us now execute (and time) the same code again:"
   ]
  },
  {
   "cell_type": "code",
   "execution_count": null,
   "metadata": {},
   "outputs": [],
   "source": []
  },
  {
   "cell_type": "markdown",
   "metadata": {},
   "source": [
    "Note that he second execution is much faster. This is because PyLandStats stores intermediate results that are used to compute other metrics, e.g., the `_patch_class_ser` and `_patch_area_ser` attributes:"
   ]
  },
  {
   "cell_type": "code",
   "execution_count": null,
   "metadata": {},
   "outputs": [],
   "source": []
  },
  {
   "cell_type": "code",
   "execution_count": null,
   "metadata": {},
   "outputs": [],
   "source": []
  },
  {
   "cell_type": "markdown",
   "metadata": {},
   "source": [
    "Since such attributes contain information of all the patches of the landscape (i.e., the patches of all LULC classes), computing this metrics for other classes will be faster now. \n",
    "\n",
    "Let us now compute the proportion of landscape of the three forest classes:"
   ]
  },
  {
   "cell_type": "code",
   "execution_count": null,
   "metadata": {},
   "outputs": [],
   "source": [
    "class_dict = {10: 'Forest (non-bushy)', 11: 'Bushy forest', 12: 'Other forest'}"
   ]
  },
  {
   "cell_type": "code",
   "execution_count": null,
   "metadata": {},
   "outputs": [],
   "source": []
  },
  {
   "cell_type": "markdown",
   "metadata": {},
   "source": [
    "Such attributes are cached as we execute metrics that require them. For instance, if we now compute (and time the execution) of the area-weighted fractal dimension:"
   ]
  },
  {
   "cell_type": "code",
   "execution_count": null,
   "metadata": {},
   "outputs": [],
   "source": []
  },
  {
   "cell_type": "markdown",
   "metadata": {},
   "source": [
    "The list of patch perimeters will be cached as the `_patch_perimeter_ser` attribute:"
   ]
  },
  {
   "cell_type": "code",
   "execution_count": null,
   "metadata": {},
   "outputs": [],
   "source": []
  },
  {
   "cell_type": "markdown",
   "metadata": {},
   "source": [
    "And if we now compute the same metric again, the execution will be much faster:"
   ]
  },
  {
   "cell_type": "code",
   "execution_count": null,
   "metadata": {},
   "outputs": [],
   "source": []
  },
  {
   "cell_type": "markdown",
   "metadata": {},
   "source": [
    "Finally, instead of computing metrics individually, we can compute multiple metrics for multiple classes as a pandas data-frame of metrics with the `compute_class_metrics_df` method:"
   ]
  },
  {
   "cell_type": "code",
   "execution_count": null,
   "metadata": {},
   "outputs": [],
   "source": [
    "metrics = ['proportion_of_landscape', 'number_of_patches', 'edge_density', 'fractal_dimension_am']\n",
    "classes = list(class_dict.keys())"
   ]
  },
  {
   "cell_type": "code",
   "execution_count": null,
   "metadata": {},
   "outputs": [],
   "source": []
  },
  {
   "cell_type": "markdown",
   "metadata": {},
   "source": [
    "The returned object is a pandas `DataFrame` upon which we can operate as we would with any other pandas `DataFrame`:"
   ]
  },
  {
   "cell_type": "code",
   "execution_count": null,
   "metadata": {},
   "outputs": [],
   "source": []
  }
 ],
 "metadata": {
  "kernelspec": {
   "display_name": "Python (swiss-forests)",
   "language": "python",
   "name": "swiss-forests"
  },
  "language_info": {
   "codemirror_mode": {
    "name": "ipython",
    "version": 3
   },
   "file_extension": ".py",
   "mimetype": "text/x-python",
   "name": "python",
   "nbconvert_exporter": "python",
   "pygments_lexer": "ipython3",
   "version": "3.8.2"
  },
  "name": "pylandstats-landscape.ipynb"
 },
 "nbformat": 4,
 "nbformat_minor": 2
}
