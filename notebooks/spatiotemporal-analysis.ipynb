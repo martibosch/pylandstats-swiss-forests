{
 "cells": [
  {
   "cell_type": "markdown",
   "metadata": {},
   "source": [
    "# Spatiotemporal analysis\n",
    "\n",
    "PyLandStats has a specific [`SpatioTemporalAnalysis` class](https://pylandstats.readthedocs.io/en/latest/spatiotemporal.html) to assess how landscapes change in time."
   ]
  },
  {
   "cell_type": "code",
   "execution_count": 1,
   "metadata": {},
   "outputs": [],
   "source": [
    "import matplotlib.pyplot as plt\n",
    "import pylandstats as pls"
   ]
  },
  {
   "cell_type": "code",
   "execution_count": 2,
   "metadata": {},
   "outputs": [],
   "source": [
    "metrics = ['proportion_of_landscape', 'patch_density', 'edge_density', 'fractal_dimension_am']\n",
    "class_dict = {10: 'Forest (no bushes)', 11: 'Bushy forest', 12: 'Other forest'}\n",
    "classes = list(class_dict.keys())\n",
    "\n",
    "lulc_filepaths = [\n",
    "    f'../data/raw/{lulc_filename}.tif'\n",
    "    for lulc_filename in ['AS85R_17', 'AS97R_17', 'AS09R_17', 'AS18_17']\n",
    "]\n",
    "years = [1980, 1990, 2005, 2014]"
   ]
  },
  {
   "cell_type": "markdown",
   "metadata": {},
   "source": [
    "To initialize a `SpatioTemporalAnalysis` instance, we need to provide the (temporally-ordered) list of rasters, the matching list of years to which each landscape corresponds:"
   ]
  },
  {
   "cell_type": "code",
   "execution_count": 3,
   "metadata": {},
   "outputs": [],
   "source": [
    "sta = pls.SpatioTemporalAnalysis(lulc_filepaths, dates=years)"
   ]
  },
  {
   "cell_type": "markdown",
   "metadata": {},
   "source": [
    "We can now compute how metrics change in time by means of the `compute_class_metrics_df` method:"
   ]
  },
  {
   "cell_type": "code",
   "execution_count": 4,
   "metadata": {},
   "outputs": [
    {
     "name": "stdout",
     "output_type": "stream",
     "text": [
      "CPU times: user 58.3 s, sys: 497 ms, total: 58.8 s\n",
      "Wall time: 58.3 s\n"
     ]
    }
   ],
   "source": [
    "%%time\n",
    "class_metrics_df = sta.compute_class_metrics_df(metrics=metrics, classes=classes)"
   ]
  },
  {
   "cell_type": "markdown",
   "metadata": {},
   "source": [
    "Note that the cache mechanisms of the `Landscape` class also operate here:"
   ]
  },
  {
   "cell_type": "code",
   "execution_count": 5,
   "metadata": {},
   "outputs": [
    {
     "name": "stdout",
     "output_type": "stream",
     "text": [
      "CPU times: user 9.25 s, sys: 16.2 ms, total: 9.27 s\n",
      "Wall time: 9.19 s\n"
     ]
    },
    {
     "data": {
      "text/html": [
       "<div>\n",
       "<style scoped>\n",
       "    .dataframe tbody tr th:only-of-type {\n",
       "        vertical-align: middle;\n",
       "    }\n",
       "\n",
       "    .dataframe tbody tr th {\n",
       "        vertical-align: top;\n",
       "    }\n",
       "\n",
       "    .dataframe thead th {\n",
       "        text-align: right;\n",
       "    }\n",
       "</style>\n",
       "<table border=\"1\" class=\"dataframe\">\n",
       "  <thead>\n",
       "    <tr style=\"text-align: right;\">\n",
       "      <th></th>\n",
       "      <th>metric</th>\n",
       "      <th>proportion_of_landscape</th>\n",
       "      <th>patch_density</th>\n",
       "      <th>edge_density</th>\n",
       "      <th>fractal_dimension_am</th>\n",
       "      <th>landscape_shape_index</th>\n",
       "    </tr>\n",
       "    <tr>\n",
       "      <th>class_val</th>\n",
       "      <th>dates</th>\n",
       "      <th></th>\n",
       "      <th></th>\n",
       "      <th></th>\n",
       "      <th></th>\n",
       "      <th></th>\n",
       "    </tr>\n",
       "  </thead>\n",
       "  <tbody>\n",
       "    <tr>\n",
       "      <th rowspan=\"4\" valign=\"top\">8</th>\n",
       "      <th>1980</th>\n",
       "      <td>14.0675</td>\n",
       "      <td>1.39967</td>\n",
       "      <td>26.2745</td>\n",
       "      <td>1.21779</td>\n",
       "      <td>189.12</td>\n",
       "    </tr>\n",
       "    <tr>\n",
       "      <th>1990</th>\n",
       "      <td>13.8166</td>\n",
       "      <td>1.38008</td>\n",
       "      <td>25.9753</td>\n",
       "      <td>1.21656</td>\n",
       "      <td>188.83</td>\n",
       "    </tr>\n",
       "    <tr>\n",
       "      <th>2005</th>\n",
       "      <td>14.5704</td>\n",
       "      <td>1.37552</td>\n",
       "      <td>27.2316</td>\n",
       "      <td>1.22092</td>\n",
       "      <td>192.68</td>\n",
       "    </tr>\n",
       "    <tr>\n",
       "      <th>2014</th>\n",
       "      <td>14.7986</td>\n",
       "      <td>1.36134</td>\n",
       "      <td>27.5318</td>\n",
       "      <td>1.22391</td>\n",
       "      <td>193.392</td>\n",
       "    </tr>\n",
       "    <tr>\n",
       "      <th rowspan=\"4\" valign=\"top\">9</th>\n",
       "      <th>1980</th>\n",
       "      <td>12.3182</td>\n",
       "      <td>0.438456</td>\n",
       "      <td>16.8563</td>\n",
       "      <td>1.24194</td>\n",
       "      <td>130.017</td>\n",
       "    </tr>\n",
       "    <tr>\n",
       "      <th>1990</th>\n",
       "      <td>12.0245</td>\n",
       "      <td>0.441635</td>\n",
       "      <td>16.6318</td>\n",
       "      <td>1.23565</td>\n",
       "      <td>129.829</td>\n",
       "    </tr>\n",
       "    <tr>\n",
       "      <th>2005</th>\n",
       "      <td>11.929</td>\n",
       "      <td>0.43158</td>\n",
       "      <td>16.5341</td>\n",
       "      <td>1.23632</td>\n",
       "      <td>129.584</td>\n",
       "    </tr>\n",
       "    <tr>\n",
       "      <th>2014</th>\n",
       "      <td>11.8194</td>\n",
       "      <td>0.436135</td>\n",
       "      <td>16.4746</td>\n",
       "      <td>1.23684</td>\n",
       "      <td>129.809</td>\n",
       "    </tr>\n",
       "    <tr>\n",
       "      <th rowspan=\"4\" valign=\"top\">10</th>\n",
       "      <th>1980</th>\n",
       "      <td>27.9891</td>\n",
       "      <td>0.816067</td>\n",
       "      <td>28.4676</td>\n",
       "      <td>1.25406</td>\n",
       "      <td>146.566</td>\n",
       "    </tr>\n",
       "    <tr>\n",
       "      <th>1990</th>\n",
       "      <td>28.3868</td>\n",
       "      <td>0.795098</td>\n",
       "      <td>28.4902</td>\n",
       "      <td>1.26397</td>\n",
       "      <td>145.686</td>\n",
       "    </tr>\n",
       "    <tr>\n",
       "      <th>2005</th>\n",
       "      <td>28.4551</td>\n",
       "      <td>0.806442</td>\n",
       "      <td>28.5384</td>\n",
       "      <td>1.26422</td>\n",
       "      <td>145.801</td>\n",
       "    </tr>\n",
       "    <tr>\n",
       "      <th>2014</th>\n",
       "      <td>28.6121</td>\n",
       "      <td>0.815208</td>\n",
       "      <td>28.7085</td>\n",
       "      <td>1.26544</td>\n",
       "      <td>146.155</td>\n",
       "    </tr>\n",
       "    <tr>\n",
       "      <th rowspan=\"4\" valign=\"top\">11</th>\n",
       "      <th>1980</th>\n",
       "      <td>0.484089</td>\n",
       "      <td>0.134493</td>\n",
       "      <td>1.22805</td>\n",
       "      <td>1.09107</td>\n",
       "      <td>47.3179</td>\n",
       "    </tr>\n",
       "    <tr>\n",
       "      <th>1990</th>\n",
       "      <td>0.566245</td>\n",
       "      <td>0.148157</td>\n",
       "      <td>1.41024</td>\n",
       "      <td>1.09502</td>\n",
       "      <td>50.3374</td>\n",
       "    </tr>\n",
       "    <tr>\n",
       "      <th>2005</th>\n",
       "      <td>0.647285</td>\n",
       "      <td>0.164915</td>\n",
       "      <td>1.59466</td>\n",
       "      <td>1.09762</td>\n",
       "      <td>53.3678</td>\n",
       "    </tr>\n",
       "    <tr>\n",
       "      <th>2014</th>\n",
       "      <td>0.677965</td>\n",
       "      <td>0.176431</td>\n",
       "      <td>1.67785</td>\n",
       "      <td>1.09671</td>\n",
       "      <td>54.8876</td>\n",
       "    </tr>\n",
       "    <tr>\n",
       "      <th rowspan=\"4\" valign=\"top\">12</th>\n",
       "      <th>1980</th>\n",
       "      <td>2.54462</td>\n",
       "      <td>1.82266</td>\n",
       "      <td>9.29247</td>\n",
       "      <td>1.02677</td>\n",
       "      <td>157.026</td>\n",
       "    </tr>\n",
       "    <tr>\n",
       "      <th>1990</th>\n",
       "      <td>2.46023</td>\n",
       "      <td>1.77608</td>\n",
       "      <td>8.99899</td>\n",
       "      <td>1.02573</td>\n",
       "      <td>154.723</td>\n",
       "    </tr>\n",
       "    <tr>\n",
       "      <th>2005</th>\n",
       "      <td>2.37653</td>\n",
       "      <td>1.72091</td>\n",
       "      <td>8.69237</td>\n",
       "      <td>1.02532</td>\n",
       "      <td>152.144</td>\n",
       "    </tr>\n",
       "    <tr>\n",
       "      <th>2014</th>\n",
       "      <td>2.38478</td>\n",
       "      <td>1.72787</td>\n",
       "      <td>8.71437</td>\n",
       "      <td>1.02541</td>\n",
       "      <td>152.108</td>\n",
       "    </tr>\n",
       "  </tbody>\n",
       "</table>\n",
       "</div>"
      ],
      "text/plain": [
       "metric          proportion_of_landscape patch_density edge_density  \\\n",
       "class_val dates                                                      \n",
       "8         1980                  14.0675       1.39967      26.2745   \n",
       "          1990                  13.8166       1.38008      25.9753   \n",
       "          2005                  14.5704       1.37552      27.2316   \n",
       "          2014                  14.7986       1.36134      27.5318   \n",
       "9         1980                  12.3182      0.438456      16.8563   \n",
       "          1990                  12.0245      0.441635      16.6318   \n",
       "          2005                   11.929       0.43158      16.5341   \n",
       "          2014                  11.8194      0.436135      16.4746   \n",
       "10        1980                  27.9891      0.816067      28.4676   \n",
       "          1990                  28.3868      0.795098      28.4902   \n",
       "          2005                  28.4551      0.806442      28.5384   \n",
       "          2014                  28.6121      0.815208      28.7085   \n",
       "11        1980                 0.484089      0.134493      1.22805   \n",
       "          1990                 0.566245      0.148157      1.41024   \n",
       "          2005                 0.647285      0.164915      1.59466   \n",
       "          2014                 0.677965      0.176431      1.67785   \n",
       "12        1980                  2.54462       1.82266      9.29247   \n",
       "          1990                  2.46023       1.77608      8.99899   \n",
       "          2005                  2.37653       1.72091      8.69237   \n",
       "          2014                  2.38478       1.72787      8.71437   \n",
       "\n",
       "metric          fractal_dimension_am landscape_shape_index  \n",
       "class_val dates                                             \n",
       "8         1980               1.21779                189.12  \n",
       "          1990               1.21656                188.83  \n",
       "          2005               1.22092                192.68  \n",
       "          2014               1.22391               193.392  \n",
       "9         1980               1.24194               130.017  \n",
       "          1990               1.23565               129.829  \n",
       "          2005               1.23632               129.584  \n",
       "          2014               1.23684               129.809  \n",
       "10        1980               1.25406               146.566  \n",
       "          1990               1.26397               145.686  \n",
       "          2005               1.26422               145.801  \n",
       "          2014               1.26544               146.155  \n",
       "11        1980               1.09107               47.3179  \n",
       "          1990               1.09502               50.3374  \n",
       "          2005               1.09762               53.3678  \n",
       "          2014               1.09671               54.8876  \n",
       "12        1980               1.02677               157.026  \n",
       "          1990               1.02573               154.723  \n",
       "          2005               1.02532               152.144  \n",
       "          2014               1.02541               152.108  "
      ]
     },
     "execution_count": 5,
     "metadata": {},
     "output_type": "execute_result"
    }
   ],
   "source": [
    "%%time\n",
    "more_metrics = metrics + ['landscape_shape_index']\n",
    "more_classes = [8, 9] + classes\n",
    "sta.compute_class_metrics_df(metrics=more_metrics, classes=more_classes)"
   ]
  },
  {
   "cell_type": "markdown",
   "metadata": {},
   "source": [
    "We can use the `plot_metric` method to plot metrics:"
   ]
  },
  {
   "cell_type": "code",
   "execution_count": 6,
   "metadata": {},
   "outputs": [
    {
     "data": {
      "text/plain": [
       "<matplotlib.axes._subplots.AxesSubplot at 0x7ff13f1068e0>"
      ]
     },
     "execution_count": 6,
     "metadata": {},
     "output_type": "execute_result"
    },
    {
     "data": {
      "image/png": "[encoded data removed]",
      "text/plain": [
       "<Figure size 432x288 with 1 Axes>"
      ]
     },
     "metadata": {
      "needs_background": "light"
     },
     "output_type": "display_data"
    }
   ],
   "source": [
    "sta.plot_metric('shape_index_am', class_val=10)"
   ]
  },
  {
   "cell_type": "markdown",
   "metadata": {},
   "source": [
    "We can use what we know about matplotlib to produce interesting plots:"
   ]
  },
  {
   "cell_type": "code",
   "execution_count": 7,
   "metadata": {},
   "outputs": [
    {
     "data": {
      "text/plain": [
       "<matplotlib.legend.Legend at 0x7ff13ef45a60>"
      ]
     },
     "execution_count": 7,
     "metadata": {},
     "output_type": "execute_result"
    },
    {
     "data": {
      "image/png": "[encoded data removed]",
      "text/plain": [
       "<Figure size 432x288 with 1 Axes>"
      ]
     },
     "metadata": {
      "needs_background": "light"
     },
     "output_type": "display_data"
    }
   ],
   "source": [
    "fig, ax = plt.subplots()\n",
    "\n",
    "for class_val in classes:\n",
    "    class_label = class_dict[class_val]\n",
    "    sta.plot_metric('area_mn',\n",
    "                    class_val=class_val,\n",
    "                    ax=ax,\n",
    "                    plot_kws=dict(label=class_label))\n",
    "ax.legend()"
   ]
  }
 ],
 "metadata": {
  "kernelspec": {
   "display_name": "Python (pylandstats-swiss-forests)",
   "language": "python",
   "name": "pylandstats-swiss-forests"
  },
  "language_info": {
   "codemirror_mode": {
    "name": "ipython",
    "version": 3
   },
   "file_extension": ".py",
   "mimetype": "text/x-python",
   "name": "python",
   "nbconvert_exporter": "python",
   "pygments_lexer": "ipython3",
   "version": "3.8.2"
  },
  "name": "spatiotemporal-analysis.ipynb"
 },
 "nbformat": 4,
 "nbformat_minor": 2
}
