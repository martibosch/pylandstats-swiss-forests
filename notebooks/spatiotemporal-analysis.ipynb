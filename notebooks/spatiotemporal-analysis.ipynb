{
 "cells": [
  {
   "cell_type": "markdown",
   "metadata": {},
   "source": [
    "# Spatiotemporal analysis\n",
    "\n",
    "PyLandStats has a specific [`SpatioTemporalAnalysis` class](https://pylandstats.readthedocs.io/en/latest/spatiotemporal.html) to assess how landscapes change in time."
   ]
  },
  {
   "cell_type": "code",
   "execution_count": null,
   "metadata": {},
   "outputs": [],
   "source": [
    "import matplotlib.pyplot as plt\n",
    "import pylandstats as pls"
   ]
  },
  {
   "cell_type": "code",
   "execution_count": null,
   "metadata": {},
   "outputs": [],
   "source": [
    "metrics = ['proportion_of_landscape', 'patch_density', 'edge_density', 'fractal_dimension_am']\n",
    "class_dict = {10: 'Forest (no bushes)', 11: 'Bushy forest', 12: 'Other forest'}\n",
    "classes = list(class_dict.keys())\n",
    "\n",
    "lulc_filepaths = [\n",
    "    f'../data/raw/{lulc_filename}.tif'\n",
    "    for lulc_filename in ['AS85R_17', 'AS97R_17', 'AS09R_17', 'AS18_17']\n",
    "]\n",
    "years = [1980, 1990, 2005, 2014]"
   ]
  },
  {
   "cell_type": "markdown",
   "metadata": {},
   "source": [
    "To initialize a `SpatioTemporalAnalysis` instance, we need to provide the (temporally-ordered) list of rasters, the matching list of years to which each landscape corresponds:"
   ]
  },
  {
   "cell_type": "code",
   "execution_count": null,
   "metadata": {},
   "outputs": [],
   "source": [
    "sta = pls.SpatioTemporalAnalysis(lulc_filepaths, dates=years)"
   ]
  },
  {
   "cell_type": "markdown",
   "metadata": {},
   "source": [
    "We can now compute how metrics change in time by means of the `compute_class_metrics_df` method:"
   ]
  },
  {
   "cell_type": "code",
   "execution_count": null,
   "metadata": {},
   "outputs": [],
   "source": []
  },
  {
   "cell_type": "markdown",
   "metadata": {},
   "source": [
    "Note that the cache mechanisms of the `Landscape` class also operate here:"
   ]
  },
  {
   "cell_type": "code",
   "execution_count": null,
   "metadata": {},
   "outputs": [],
   "source": []
  },
  {
   "cell_type": "markdown",
   "metadata": {},
   "source": [
    "We can use the `plot_metric` method to plot metrics:"
   ]
  },
  {
   "cell_type": "code",
   "execution_count": null,
   "metadata": {},
   "outputs": [],
   "source": []
  },
  {
   "cell_type": "markdown",
   "metadata": {},
   "source": [
    "We can use what we know about matplotlib to produce interesting plots:"
   ]
  },
  {
   "cell_type": "code",
   "execution_count": null,
   "metadata": {},
   "outputs": [],
   "source": []
  }
 ],
 "metadata": {
  "kernelspec": {
   "display_name": "Python (swiss-forests)",
   "language": "python",
   "name": "swiss-forests"
  },
  "language_info": {
   "codemirror_mode": {
    "name": "ipython",
    "version": 3
   },
   "file_extension": ".py",
   "mimetype": "text/x-python",
   "name": "python",
   "nbconvert_exporter": "python",
   "pygments_lexer": "ipython3",
   "version": "3.8.2"
  },
  "name": "spatiotemporal-analysis.ipynb"
 },
 "nbformat": 4,
 "nbformat_minor": 2
}
